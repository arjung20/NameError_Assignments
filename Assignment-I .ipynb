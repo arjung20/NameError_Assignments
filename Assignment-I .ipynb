{
 "cells": [
  {
   "cell_type": "markdown",
   "metadata": {},
   "source": [
    "# PART  (A): Number Guessing Game"
   ]
  },
  {
   "cell_type": "code",
   "execution_count": 2,
   "metadata": {},
   "outputs": [
    {
     "name": "stdout",
     "output_type": "stream",
     "text": [
      "Enter your guess between 1-100, You have 5 attempts :\n",
      "1000\n",
      "PLEASE ENTER A NUMBER BETWEEN 1 AND 100\n",
      "\n",
      "50\n",
      "Guessed number is lesser than the actual number, Try again: \n",
      "Number of guesses made:  1\n",
      "\n",
      "80\n",
      "Guessed number is greater than actual number, Try again: \n",
      "Number of guesses made:  2\n",
      "\n",
      "70\n",
      "Guessed number is greater than actual number, Try again: \n",
      "Number of guesses made:  3\n",
      "\n",
      "65\n",
      "Guessed number is greater than actual number, Try again: \n",
      "Number of guesses made:  4\n",
      "\n",
      "61\n",
      "Good work! You guessed the right number!\n",
      "Number of guesses made:  5\n",
      "THE ACTUAL NUMBER IS :61\n"
     ]
    }
   ],
   "source": [
    "def game():                        # A function named \"game\" is defined\n",
    "    \n",
    "    import random                  # Importing the random module\n",
    "    actual= random.randint(1,100)   # Generating random numbers from 1-100 using randint, assign it to actual\n",
    "    \n",
    "    guess = 0 \n",
    "    \n",
    "    print(\"Enter your guess between 1-100, You have 5 attempts :\")\n",
    "    \n",
    "    while guess < 5:            # While loop is run as long as the guess value is less than 5 (0-4=5 guesses)\n",
    "        \n",
    "        n= int(input())       # Asks for a number bw 1-100 from user\n",
    "        \n",
    "        if n > 1 and n < 100:     # Checks if the number entered is bw 1 & 100, if not jump to else statement\n",
    "\n",
    "            if n > actual:     # Checks if the number is greater than the value stored in \"actual\"\n",
    "                print(\"Guessed number is greater than actual number, Try again: \")\n",
    "                guess += 1\n",
    "                \n",
    "            elif n < actual:   # Checks if the number is lesser than the value stored in \"actual\"\n",
    "                print(\"Guessed number is lesser than the actual number, Try again: \")\n",
    "                guess+=1\n",
    "              \n",
    "            elif n == actual:  # Checks if the number is equal to value stored in \"actual\". if so game is won\n",
    "                print(\"Good work! You guessed the right number!\" )\n",
    "                print(\"Number of guesses made: \",guess+1)   # Since counting from 0\n",
    "                print(\"THE ACTUAL NUMBER IS :\",end=\" \")\n",
    "                break        # Ending the loop\n",
    "                \n",
    "            print(\"Number of guesses made: \",guess)  \n",
    "            print()\n",
    "                \n",
    "            if guess > 4:     # When all conditions fail to match after guess=4(5), print:\n",
    "                    print(\"\\nSorry you ran out of attempts :( \\n    THE ACTUAL NUMBER IS:\", end=\" \")\n",
    "                    \n",
    "        else:\n",
    "            print(\"PLEASE ENTER A NUMBER BETWEEN 1 AND 100\\n\")\n",
    "    \n",
    "    return actual       # the random int stored in actual is returned by function and appended with print\n",
    "\n",
    "                \n",
    "        \n",
    "print(game())   #Function is called"
   ]
  },
  {
   "cell_type": "markdown",
   "metadata": {},
   "source": [
    "# PART (B): Factorial of a Number"
   ]
  },
  {
   "cell_type": "code",
   "execution_count": 56,
   "metadata": {},
   "outputs": [
    {
     "name": "stdout",
     "output_type": "stream",
     "text": [
      "Enter a number to find its factorial : 5\n",
      "\n",
      "Factorial of 5 is 120\n",
      "None\n"
     ]
    }
   ],
   "source": [
    "def factorial():   #A function named \"factorial\" is defined\n",
    "    \n",
    "    n = int(input(\"Enter a number to find its factorial : \"))   #Asks for a number from user\n",
    "    fact = 1   #Initial values are set\n",
    "    i = 1\n",
    "    \n",
    "    if n >= 0:   # Checking if the inputed value is positive or not. If negtive jump to else statement\n",
    "        \n",
    "        while i <= n: # While loop is executed as long as iterated value of i is less than or equal to n\n",
    "            \n",
    "            fact = fact * i # variable fact is multiplied with iterated values of i. {1*fact=fact, 2*fact....,(i=n)*fact}\n",
    "            i = i + 1\n",
    "           \n",
    "        print(\"\\nFactorial of\",n,\"is\", fact) \n",
    "        \n",
    "    else:\n",
    "        print(\"Factorial of negative numbers do not exist!\") \n",
    "        \n",
    "        \n",
    "\n",
    "print(factorial())  #function is called  \n",
    "\n",
    "\n",
    "    \n",
    "\n"
   ]
  }
 ],
 "metadata": {
  "kernelspec": {
   "display_name": "Python 3",
   "language": "python",
   "name": "python3"
  },
  "language_info": {
   "codemirror_mode": {
    "name": "ipython",
    "version": 3
   },
   "file_extension": ".py",
   "mimetype": "text/x-python",
   "name": "python",
   "nbconvert_exporter": "python",
   "pygments_lexer": "ipython3",
   "version": "3.7.6"
  }
 },
 "nbformat": 4,
 "nbformat_minor": 4
}
